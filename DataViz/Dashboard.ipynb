{
  "cells": [
    {
      "cell_type": "raw",
      "metadata": {},
      "source": [
        "---\n",
        "title: \"Data Visualization Dashboard\"\n",
        "format: dashboard\n",
        "---"
      ],
      "id": "7b4d8f41"
    },
    {
      "cell_type": "code",
      "metadata": {},
      "source": [
        "import plotly.express as px\n",
        "df = px.data.gapminder()"
      ],
      "id": "63222bb7",
      "execution_count": null,
      "outputs": []
    },
    {
      "cell_type": "markdown",
      "metadata": {},
      "source": [
        "## Row {height=60%}\n"
      ],
      "id": "d5d7fa95"
    },
    {
      "cell_type": "code",
      "metadata": {
        "title": "GDP and Life Expectancy"
      },
      "source": [
        "px.scatter(  \n",
        "  df, x=\"gdpPercap\", y=\"lifeExp\", \n",
        "  animation_frame=\"year\", animation_group=\"country\", \n",
        "  size=\"pop\", color=\"continent\", hover_name=\"country\",\n",
        "  facet_col=\"continent\", log_x=True, size_max=45, \n",
        "  range_x=[100,100000], range_y=[25,90] \n",
        ")  "
      ],
      "id": "34a9d91e",
      "execution_count": null,
      "outputs": []
    },
    {
      "cell_type": "markdown",
      "metadata": {},
      "source": [
        "## Row {height=40%}\n"
      ],
      "id": "f4ef5bd9"
    },
    {
      "cell_type": "code",
      "metadata": {
        "title": "Population"
      },
      "source": [
        "px.area(\n",
        "  df, x=\"year\", y=\"pop\", \n",
        "  color=\"continent\", line_group=\"country\"\n",
        ")"
      ],
      "id": "fa27ba3f",
      "execution_count": null,
      "outputs": []
    },
    {
      "cell_type": "code",
      "metadata": {
        "title": "Life Expectancy"
      },
      "source": [
        "px.line(\n",
        "  df, x=\"year\", y=\"lifeExp\", \n",
        "  color=\"continent\", line_group=\"country\"\n",
        ")"
      ],
      "id": "e4989d95",
      "execution_count": null,
      "outputs": []
    }
  ],
  "metadata": {
    "kernelspec": {
      "name": "python3",
      "language": "python",
      "display_name": "Python 3 (ipykernel)"
    }
  },
  "nbformat": 4,
  "nbformat_minor": 5
}